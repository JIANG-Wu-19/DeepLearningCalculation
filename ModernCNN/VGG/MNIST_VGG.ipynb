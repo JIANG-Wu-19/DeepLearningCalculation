{
 "cells": [
  {
   "cell_type": "code",
   "execution_count": 1,
   "metadata": {
    "collapsed": true,
    "ExecuteTime": {
     "end_time": "2024-03-03T07:55:31.215461600Z",
     "start_time": "2024-03-03T07:55:29.172386800Z"
    }
   },
   "outputs": [],
   "source": [
    "import torch\n",
    "from torch import nn\n",
    "from torch.utils.data import DataLoader\n",
    "from torchvision import datasets\n",
    "from torchvision import transforms\n",
    "from torchvision.transforms import ToTensor\n",
    "from torchvision.transforms import Resize\n",
    "\n",
    "from VGG import VGG"
   ]
  },
  {
   "cell_type": "code",
   "execution_count": 2,
   "outputs": [],
   "source": [
    "conv_arch=(\n",
    "    (1,64),\n",
    "    (1,128),\n",
    "    (2,256),\n",
    "    (2,512),\n",
    "    (2,512)\n",
    ")"
   ],
   "metadata": {
    "collapsed": false,
    "ExecuteTime": {
     "end_time": "2024-03-03T07:55:31.220292100Z",
     "start_time": "2024-03-03T07:55:31.215461600Z"
    }
   }
  },
  {
   "cell_type": "code",
   "execution_count": 3,
   "outputs": [
    {
     "data": {
      "text/plain": "[(1, 16), (1, 32), (2, 64), (2, 128), (2, 128)]"
     },
     "execution_count": 3,
     "metadata": {},
     "output_type": "execute_result"
    }
   ],
   "source": [
    "ratio = 4\n",
    "small_conv_arch = [(pair[0], pair[1] // ratio) for pair in conv_arch]\n",
    "small_conv_arch"
   ],
   "metadata": {
    "collapsed": false,
    "ExecuteTime": {
     "end_time": "2024-03-03T07:55:31.234161700Z",
     "start_time": "2024-03-03T07:55:31.220292100Z"
    }
   }
  },
  {
   "cell_type": "code",
   "execution_count": 4,
   "outputs": [],
   "source": [
    "# X=torch.randn(size=(1,1,224,224))\n",
    "# for blk in net:\n",
    "#     X=blk(X)\n",
    "#     print(blk.__class__.__name__,'output shape:\\t',X.shape)"
   ],
   "metadata": {
    "collapsed": false,
    "ExecuteTime": {
     "end_time": "2024-03-03T07:55:31.234666200Z",
     "start_time": "2024-03-03T07:55:31.230668800Z"
    }
   }
  },
  {
   "cell_type": "code",
   "execution_count": 5,
   "outputs": [],
   "source": [
    "transform=transforms.Compose([\n",
    "    Resize([224,224]),\n",
    "    ToTensor()\n",
    "])\n",
    "mnist_training = datasets.MNIST(\n",
    "    root=\"../data\",\n",
    "    train=True,\n",
    "    transform=transform,\n",
    "    download=False\n",
    ")\n",
    "\n",
    "mnist_test = datasets.MNIST(\n",
    "    root=\"../data\",\n",
    "    train=False,\n",
    "    transform=transform,\n",
    "    download=False\n",
    ")"
   ],
   "metadata": {
    "collapsed": false,
    "ExecuteTime": {
     "end_time": "2024-03-03T07:55:31.280517300Z",
     "start_time": "2024-03-03T07:55:31.234666200Z"
    }
   }
  },
  {
   "cell_type": "code",
   "execution_count": 6,
   "outputs": [],
   "source": [
    "torch.cuda.empty_cache ()\n",
    "device = torch.device(\"cuda\" if torch.cuda.is_available() else \"cpu\")"
   ],
   "metadata": {
    "collapsed": false,
    "ExecuteTime": {
     "end_time": "2024-03-03T07:55:31.320752100Z",
     "start_time": "2024-03-03T07:55:31.277009700Z"
    }
   }
  },
  {
   "cell_type": "code",
   "execution_count": 7,
   "outputs": [],
   "source": [
    "BATCH_SIZE = 128\n",
    "lr = 0.01\n",
    "epochs = 20\n",
    "\n",
    "train_dataloader = DataLoader(mnist_training, batch_size=BATCH_SIZE, shuffle=True)\n",
    "\n",
    "test_dataloader = DataLoader(mnist_test, batch_size=BATCH_SIZE, shuffle=False)"
   ],
   "metadata": {
    "collapsed": false,
    "ExecuteTime": {
     "end_time": "2024-03-03T07:55:31.320752100Z",
     "start_time": "2024-03-03T07:55:31.313190700Z"
    }
   }
  },
  {
   "cell_type": "code",
   "execution_count": 8,
   "outputs": [
    {
     "data": {
      "text/plain": "Sequential(\n  (0): Sequential(\n    (0): Conv2d(1, 16, kernel_size=(3, 3), stride=(1, 1), padding=(1, 1))\n    (1): ReLU()\n    (2): MaxPool2d(kernel_size=2, stride=2, padding=0, dilation=1, ceil_mode=False)\n  )\n  (1): Sequential(\n    (0): Conv2d(16, 32, kernel_size=(3, 3), stride=(1, 1), padding=(1, 1))\n    (1): ReLU()\n    (2): MaxPool2d(kernel_size=2, stride=2, padding=0, dilation=1, ceil_mode=False)\n  )\n  (2): Sequential(\n    (0): Conv2d(32, 64, kernel_size=(3, 3), stride=(1, 1), padding=(1, 1))\n    (1): ReLU()\n    (2): Conv2d(64, 64, kernel_size=(3, 3), stride=(1, 1), padding=(1, 1))\n    (3): ReLU()\n    (4): MaxPool2d(kernel_size=2, stride=2, padding=0, dilation=1, ceil_mode=False)\n  )\n  (3): Sequential(\n    (0): Conv2d(64, 128, kernel_size=(3, 3), stride=(1, 1), padding=(1, 1))\n    (1): ReLU()\n    (2): Conv2d(128, 128, kernel_size=(3, 3), stride=(1, 1), padding=(1, 1))\n    (3): ReLU()\n    (4): MaxPool2d(kernel_size=2, stride=2, padding=0, dilation=1, ceil_mode=False)\n  )\n  (4): Sequential(\n    (0): Conv2d(128, 128, kernel_size=(3, 3), stride=(1, 1), padding=(1, 1))\n    (1): ReLU()\n    (2): Conv2d(128, 128, kernel_size=(3, 3), stride=(1, 1), padding=(1, 1))\n    (3): ReLU()\n    (4): MaxPool2d(kernel_size=2, stride=2, padding=0, dilation=1, ceil_mode=False)\n  )\n  (5): Flatten(start_dim=1, end_dim=-1)\n  (6): Linear(in_features=6272, out_features=4096, bias=True)\n  (7): ReLU()\n  (8): Dropout(p=0.5, inplace=False)\n  (9): Linear(in_features=4096, out_features=4096, bias=True)\n  (10): ReLU()\n  (11): Dropout(p=0.5, inplace=False)\n  (12): Linear(in_features=4096, out_features=10, bias=True)\n)"
     },
     "execution_count": 8,
     "metadata": {},
     "output_type": "execute_result"
    }
   ],
   "source": [
    "net=VGG(small_conv_arch)\n",
    "net"
   ],
   "metadata": {
    "collapsed": false,
    "ExecuteTime": {
     "end_time": "2024-03-03T07:55:31.571037400Z",
     "start_time": "2024-03-03T07:55:31.320752100Z"
    }
   }
  },
  {
   "cell_type": "code",
   "execution_count": 9,
   "outputs": [
    {
     "name": "stdout",
     "output_type": "stream",
     "text": [
      "epoch 0 \n",
      "---------------------\n",
      "loss:2.301156 [    0/ 60000]\n",
      "loss:2.305832 [ 1280/ 60000]\n",
      "loss:2.296857 [ 2560/ 60000]\n",
      "loss:2.292382 [ 3840/ 60000]\n",
      "loss:2.287944 [ 5120/ 60000]\n",
      "loss:2.267069 [ 6400/ 60000]\n",
      "loss:2.118567 [ 7680/ 60000]\n",
      "loss:1.240553 [ 8960/ 60000]\n",
      "loss:0.611455 [10240/ 60000]\n",
      "loss:0.658462 [11520/ 60000]\n",
      "loss:0.460682 [12800/ 60000]\n",
      "loss:0.242844 [14080/ 60000]\n",
      "loss:0.177017 [15360/ 60000]\n",
      "loss:0.355205 [16640/ 60000]\n",
      "loss:0.213276 [17920/ 60000]\n",
      "loss:0.168332 [19200/ 60000]\n",
      "loss:0.160125 [20480/ 60000]\n",
      "loss:0.121496 [21760/ 60000]\n",
      "loss:0.278805 [23040/ 60000]\n",
      "loss:0.179440 [24320/ 60000]\n",
      "loss:0.137964 [25600/ 60000]\n",
      "loss:0.183054 [26880/ 60000]\n",
      "loss:0.099813 [28160/ 60000]\n",
      "loss:0.080487 [29440/ 60000]\n",
      "loss:0.098885 [30720/ 60000]\n",
      "loss:0.245040 [32000/ 60000]\n",
      "loss:0.109399 [33280/ 60000]\n",
      "loss:0.112814 [34560/ 60000]\n",
      "loss:0.053773 [35840/ 60000]\n",
      "loss:0.126897 [37120/ 60000]\n",
      "loss:0.098267 [38400/ 60000]\n",
      "loss:0.057795 [39680/ 60000]\n",
      "loss:0.085521 [40960/ 60000]\n",
      "loss:0.037295 [42240/ 60000]\n",
      "loss:0.158164 [43520/ 60000]\n",
      "loss:0.140845 [44800/ 60000]\n",
      "loss:0.108891 [46080/ 60000]\n",
      "loss:0.032962 [47360/ 60000]\n",
      "loss:0.118958 [48640/ 60000]\n",
      "loss:0.069258 [49920/ 60000]\n",
      "loss:0.096337 [51200/ 60000]\n",
      "loss:0.238867 [52480/ 60000]\n",
      "loss:0.059034 [53760/ 60000]\n",
      "loss:0.049489 [55040/ 60000]\n",
      "loss:0.080771 [56320/ 60000]\n",
      "loss:0.027918 [57600/ 60000]\n",
      "loss:0.065127 [58880/ 60000]\n",
      "test: acc 97.86000061035156\n",
      "epoch 1 \n",
      "---------------------\n",
      "loss:0.027624 [    0/ 60000]\n",
      "loss:0.102138 [ 1280/ 60000]\n",
      "loss:0.027850 [ 2560/ 60000]\n",
      "loss:0.023309 [ 3840/ 60000]\n"
     ]
    },
    {
     "ename": "KeyboardInterrupt",
     "evalue": "",
     "output_type": "error",
     "traceback": [
      "\u001B[1;31m---------------------------------------------------------------------------\u001B[0m",
      "\u001B[1;31mKeyboardInterrupt\u001B[0m                         Traceback (most recent call last)",
      "Cell \u001B[1;32mIn[9], line 17\u001B[0m\n\u001B[0;32m     12\u001B[0m \u001B[38;5;28mprint\u001B[39m(\n\u001B[0;32m     13\u001B[0m     \u001B[38;5;124mf\u001B[39m\u001B[38;5;124m\"\u001B[39m\u001B[38;5;124mepoch \u001B[39m\u001B[38;5;132;01m{\u001B[39;00mepoch\u001B[38;5;132;01m}\u001B[39;00m\u001B[38;5;124m \u001B[39m\u001B[38;5;130;01m\\n\u001B[39;00m\u001B[38;5;124m---------------------\u001B[39m\u001B[38;5;124m\"\u001B[39m\n\u001B[0;32m     14\u001B[0m )\n\u001B[0;32m     16\u001B[0m \u001B[38;5;28;01mfor\u001B[39;00m batch, (inputs, labels) \u001B[38;5;129;01min\u001B[39;00m \u001B[38;5;28menumerate\u001B[39m(train_dataloader):\n\u001B[1;32m---> 17\u001B[0m     inputs, labels \u001B[38;5;241m=\u001B[39m inputs\u001B[38;5;241m.\u001B[39mto(device), labels\u001B[38;5;241m.\u001B[39mto(device)\n\u001B[0;32m     19\u001B[0m     optimizer\u001B[38;5;241m.\u001B[39mzero_grad()\n\u001B[0;32m     21\u001B[0m     outputs \u001B[38;5;241m=\u001B[39m net(inputs)\n",
      "\u001B[1;31mKeyboardInterrupt\u001B[0m: "
     ]
    }
   ],
   "source": [
    "net.to(device)\n",
    "\n",
    "def init_weights(m):\n",
    "    if type(m) == nn.Linear or type(m) == nn.Conv2d:\n",
    "        nn.init.xavier_uniform_(m.weight)\n",
    "net.apply(init_weights)\n",
    "\n",
    "loss_fn = nn.CrossEntropyLoss()\n",
    "optimizer = torch.optim.SGD(net.parameters(), lr=lr, momentum=0.9)\n",
    "\n",
    "for epoch in range(epochs):\n",
    "    print(\n",
    "        f\"epoch {epoch} \\n---------------------\"\n",
    "    )\n",
    "\n",
    "    for batch, (inputs, labels) in enumerate(train_dataloader):\n",
    "        inputs, labels = inputs.to(device), labels.to(device)\n",
    "\n",
    "        optimizer.zero_grad()\n",
    "\n",
    "        outputs = net(inputs)\n",
    "        loss = loss_fn(outputs, labels)\n",
    "        loss.backward()\n",
    "        optimizer.step()\n",
    "\n",
    "        if batch % 10 == 0:\n",
    "            loss, current = loss.item(), batch * len(inputs)\n",
    "            print(f\"loss:{loss:>7f} [{current:>5d}/ 60000]\")\n",
    "\n",
    "    with torch.no_grad():\n",
    "        acc = 0\n",
    "        total = 0\n",
    "        for (image, label) in test_dataloader:\n",
    "            image, label = image.to(device), label.to(device)\n",
    "            output = net(image)\n",
    "            _, pred = torch.max(output.data, 1)\n",
    "            total += label.size(0)\n",
    "            acc += (pred == label).sum()\n",
    "\n",
    "        print(f\"test: acc {100 * acc / total}\")"
   ],
   "metadata": {
    "collapsed": false,
    "ExecuteTime": {
     "end_time": "2024-03-03T07:57:56.012321200Z",
     "start_time": "2024-03-03T07:55:31.571037400Z"
    }
   }
  },
  {
   "cell_type": "code",
   "execution_count": null,
   "outputs": [],
   "source": [],
   "metadata": {
    "collapsed": false,
    "ExecuteTime": {
     "start_time": "2024-03-03T07:57:56.012321200Z"
    }
   }
  }
 ],
 "metadata": {
  "kernelspec": {
   "display_name": "Python 3",
   "language": "python",
   "name": "python3"
  },
  "language_info": {
   "codemirror_mode": {
    "name": "ipython",
    "version": 2
   },
   "file_extension": ".py",
   "mimetype": "text/x-python",
   "name": "python",
   "nbconvert_exporter": "python",
   "pygments_lexer": "ipython2",
   "version": "2.7.6"
  }
 },
 "nbformat": 4,
 "nbformat_minor": 0
}
