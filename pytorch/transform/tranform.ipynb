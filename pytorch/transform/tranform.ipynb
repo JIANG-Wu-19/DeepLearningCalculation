{
 "cells": [
  {
   "cell_type": "code",
   "execution_count": 2,
   "metadata": {},
   "outputs": [],
   "source": [
    "from torchvision import transforms\n",
    "from PIL import Image"
   ]
  },
  {
   "cell_type": "code",
   "execution_count": 3,
   "metadata": {},
   "outputs": [],
   "source": [
    "image_path=\"../data/change/train/ants_image/1030023514_aad5c608f9.jpg\"\n",
    "image_PIL=Image.open(image_path)"
   ]
  },
  {
   "cell_type": "code",
   "execution_count": 4,
   "metadata": {},
   "outputs": [],
   "source": [
    "totensor=transforms.ToTensor()\n",
    "tensor_image=totensor(image_PIL)"
   ]
  },
  {
   "cell_type": "code",
   "execution_count": 5,
   "metadata": {},
   "outputs": [
    {
     "data": {
      "text/plain": [
       "tensor([[[0.6941, 0.7647, 0.8471,  ..., 0.8510, 0.8157, 0.7922],\n",
       "         [0.6392, 0.7333, 0.8314,  ..., 0.8510, 0.8510, 0.8549],\n",
       "         [0.5529, 0.6902, 0.7176,  ..., 0.8471, 0.8706, 0.8941],\n",
       "         ...,\n",
       "         [0.8941, 0.8627, 0.8392,  ..., 0.8588, 0.8431, 0.8314],\n",
       "         [0.8627, 0.8745, 0.8510,  ..., 0.8549, 0.8392, 0.8196],\n",
       "         [0.8314, 0.8392, 0.8196,  ..., 0.8667, 0.8510, 0.8392]],\n",
       "\n",
       "        [[0.6784, 0.7569, 0.8627,  ..., 0.8353, 0.8000, 0.7647],\n",
       "         [0.6118, 0.6980, 0.8118,  ..., 0.8431, 0.8431, 0.8471],\n",
       "         [0.5647, 0.6549, 0.6863,  ..., 0.8157, 0.8431, 0.8667],\n",
       "         ...,\n",
       "         [0.8706, 0.8353, 0.8078,  ..., 0.8235, 0.8157, 0.8039],\n",
       "         [0.8510, 0.8510, 0.8235,  ..., 0.8196, 0.8118, 0.8039],\n",
       "         [0.8196, 0.8196, 0.7882,  ..., 0.8392, 0.8353, 0.8235]],\n",
       "\n",
       "        [[0.5804, 0.6745, 0.7725,  ..., 0.7294, 0.6863, 0.7412],\n",
       "         [0.5412, 0.5765, 0.7373,  ..., 0.7843, 0.7843, 0.7961],\n",
       "         [0.4510, 0.5333, 0.6118,  ..., 0.8078, 0.8196, 0.8353],\n",
       "         ...,\n",
       "         [0.8157, 0.8039, 0.7569,  ..., 0.7961, 0.7765, 0.7647],\n",
       "         [0.7843, 0.8039, 0.7608,  ..., 0.8000, 0.7804, 0.7608],\n",
       "         [0.7843, 0.7961, 0.7451,  ..., 0.8157, 0.8000, 0.7804]]])"
      ]
     },
     "execution_count": 5,
     "metadata": {},
     "output_type": "execute_result"
    }
   ],
   "source": [
    "tensor_image"
   ]
  },
  {
   "cell_type": "code",
   "execution_count": 6,
   "metadata": {},
   "outputs": [],
   "source": [
    "from torch.utils.tensorboard import SummaryWriter"
   ]
  },
  {
   "cell_type": "code",
   "execution_count": 7,
   "metadata": {},
   "outputs": [],
   "source": [
    "writer=SummaryWriter(\"logs\")"
   ]
  },
  {
   "cell_type": "code",
   "execution_count": 9,
   "metadata": {},
   "outputs": [],
   "source": [
    "writer.add_image(\"ants\",tensor_image,1)"
   ]
  },
  {
   "cell_type": "code",
   "execution_count": 10,
   "metadata": {},
   "outputs": [],
   "source": [
    "writer.close()"
   ]
  },
  {
   "cell_type": "code",
   "execution_count": null,
   "metadata": {},
   "outputs": [],
   "source": []
  }
 ],
 "metadata": {
  "kernelspec": {
   "display_name": "pytorch",
   "language": "python",
   "name": "python3"
  },
  "language_info": {
   "codemirror_mode": {
    "name": "ipython",
    "version": 3
   },
   "file_extension": ".py",
   "mimetype": "text/x-python",
   "name": "python",
   "nbconvert_exporter": "python",
   "pygments_lexer": "ipython3",
   "version": "3.11.4"
  }
 },
 "nbformat": 4,
 "nbformat_minor": 2
}
