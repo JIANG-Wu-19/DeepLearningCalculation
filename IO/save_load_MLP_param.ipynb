{
 "cells": [
  {
   "cell_type": "code",
   "execution_count": 1,
   "metadata": {
    "collapsed": true,
    "ExecuteTime": {
     "end_time": "2024-02-26T11:15:32.476095600Z",
     "start_time": "2024-02-26T11:15:30.661482800Z"
    }
   },
   "outputs": [
    {
     "data": {
      "text/plain": "tensor([[-0.3972, -0.0309,  0.2046, -0.3960, -0.8005,  0.1611,  0.1087,  0.5269,\n          0.0768,  0.2946],\n        [ 0.2391,  0.2807,  0.2612,  0.2114,  0.1242, -0.0763,  0.3262,  0.1143,\n          0.2923, -0.2082]], grad_fn=<AddmmBackward0>)"
     },
     "execution_count": 1,
     "metadata": {},
     "output_type": "execute_result"
    }
   ],
   "source": [
    "import torch\n",
    "from torch import nn\n",
    "\n",
    "class MLP(nn.Module):\n",
    "    def __init__(self):\n",
    "        super().__init__()\n",
    "        self.myMLP=nn.Sequential(\n",
    "            nn.Linear(20,256),\n",
    "            nn.ReLU(),\n",
    "            nn.Linear(256,10)\n",
    "        )\n",
    "\n",
    "    def forward(self,X):\n",
    "        return self.myMLP(X)\n",
    "\n",
    "net=MLP()\n",
    "X=torch.randn((2,20))\n",
    "net(X)"
   ]
  },
  {
   "cell_type": "code",
   "execution_count": 2,
   "outputs": [],
   "source": [
    "torch.save(net.state_dict(),'mlp.params')"
   ],
   "metadata": {
    "collapsed": false,
    "ExecuteTime": {
     "end_time": "2024-02-26T11:16:45.621179200Z",
     "start_time": "2024-02-26T11:16:45.614197500Z"
    }
   }
  },
  {
   "cell_type": "code",
   "execution_count": 3,
   "outputs": [
    {
     "data": {
      "text/plain": "MLP(\n  (myMLP): Sequential(\n    (0): Linear(in_features=20, out_features=256, bias=True)\n    (1): ReLU()\n    (2): Linear(in_features=256, out_features=10, bias=True)\n  )\n)"
     },
     "execution_count": 3,
     "metadata": {},
     "output_type": "execute_result"
    }
   ],
   "source": [
    "clone=MLP()\n",
    "clone.load_state_dict(torch.load('mlp.params'))\n",
    "clone"
   ],
   "metadata": {
    "collapsed": false,
    "ExecuteTime": {
     "end_time": "2024-02-26T11:17:44.538827800Z",
     "start_time": "2024-02-26T11:17:44.534333300Z"
    }
   }
  },
  {
   "cell_type": "code",
   "execution_count": 4,
   "outputs": [
    {
     "data": {
      "text/plain": "tensor([[True, True, True, True, True, True, True, True, True, True],\n        [True, True, True, True, True, True, True, True, True, True]])"
     },
     "execution_count": 4,
     "metadata": {},
     "output_type": "execute_result"
    }
   ],
   "source": [
    "Y_clone=clone(X)\n",
    "Y_clone==net(X)"
   ],
   "metadata": {
    "collapsed": false,
    "ExecuteTime": {
     "end_time": "2024-02-26T11:18:14.974735900Z",
     "start_time": "2024-02-26T11:18:14.970745400Z"
    }
   }
  },
  {
   "cell_type": "code",
   "execution_count": null,
   "outputs": [],
   "source": [],
   "metadata": {
    "collapsed": false
   }
  }
 ],
 "metadata": {
  "kernelspec": {
   "name": "pytorch",
   "language": "python",
   "display_name": "pytorch"
  },
  "language_info": {
   "codemirror_mode": {
    "name": "ipython",
    "version": 2
   },
   "file_extension": ".py",
   "mimetype": "text/x-python",
   "name": "python",
   "nbconvert_exporter": "python",
   "pygments_lexer": "ipython2",
   "version": "2.7.6"
  }
 },
 "nbformat": 4,
 "nbformat_minor": 0
}
